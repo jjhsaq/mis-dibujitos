{
 "cells": [
  {
   "cell_type": "code",
   "execution_count": null,
   "metadata": {},
   "outputs": [],
   "source": [
    "using Images, Colors, Distributions\n",
    "\n",
    "function muestra(radio=2.0, centro=0.0im, alto=1000, ancho=1000)\n",
    "    dx=(2.0*radio)/(1.0*ancho) #el ancho que representa un pixel\n",
    "    dy=(2.0im*radio)/(1.0*alto)#el alto que representa un pixel\n",
    "    z0 = centro + radio*(1.0im - 1.0) #el primer valor de la muestra es la esquina superior izquierda\n",
    "    return [z0 + (x*dx) - (y*dy) for y in 1:alto, x in 1:ancho]\n",
    "end\n",
    "\n",
    "function moneda(N)\n",
    "    ceil(Int64, round(rand(Uniform(-N-0.499, N+0.499))))\n",
    "end\n",
    "\n",
    "function paleta(mi_foto, paso, tamaño)\n",
    "    aesthetics = load(mi_foto)\n",
    "    alto, ancho =size(aesthetics)\n",
    "    x0 = ceil(Int64, rand(Uniform(0,ancho)))\n",
    "    y0 = ceil(Int64, rand(Uniform(0,alto)))\n",
    "    paleta = zeros(RGB{N0f8}, tamaño)\n",
    "    for i = 1:length(paleta)\n",
    "        paleta[i] = aesthetics[mod(y0,alto)+1,mod(x0,ancho)+1]\n",
    "        x0 = x0 + moneda(paso)\n",
    "        y0 = y0 + moneda(paso)\n",
    "    end\n",
    "    return paleta\n",
    "end"
   ]
  },
  {
   "cell_type": "markdown",
   "metadata": {},
   "source": [
    "# Dinámica del seno\n",
    "\n",
    "En este ejemplo vamos a considerar la función $$ f_{\\lambda} (z) = \\lambda \\sin z. $$\n",
    "\n",
    "Notese que el punto $0$ es fijo para esta función y su multiplicador es $f_{\\lambda}' (0) = \\lambda \\cos 0 = \\lambda$.\n",
    "\n",
    "En el caso $|\\lambda| < 1$ podemos dibujar la cuenca de atraccion del 0."
   ]
  },
  {
   "cell_type": "code",
   "execution_count": null,
   "metadata": {},
   "outputs": [],
   "source": [
    "function trampa_seno_atractor(Z, λ, paleta, eps=0.05, TOPE=1000)\n",
    "    cont = 0\n",
    "    while cont <= TOPE\n",
    "        if abs(Z) < eps\n",
    "            n = 1 + mod(cont, length(paleta))\n",
    "            return paleta[n]\n",
    "        elseif abs(imag(Z)) > 100.0\n",
    "            return RGB{Float32}(1.0, 1.0, 1.0)\n",
    "        end\n",
    "        Z = λ*sin(Z)\n",
    "        cont += 1\n",
    "    end\n",
    "    return RGB{Float32}(0.0, 0.0, 0.0) #color negro\n",
    "end\n",
    "\n",
    "function seno_atractor(λ, paleta, eps=0.05, TOPE=1000, radio=8.0, centro=0.0, alto=1000, ancho=1000)\n",
    "    if abs(λ) >= 1.0\n",
    "        println(\"Argumento no valido\")\n",
    "        return\n",
    "    end\n",
    "    broadcast(Z -> trampa_seno_atractor(Z, λ, paleta, eps, TOPE), muestra(radio, centro, alto, ancho))\n",
    "end"
   ]
  },
  {
   "cell_type": "code",
   "execution_count": null,
   "metadata": {},
   "outputs": [],
   "source": [
    "mis_colores = paleta(\"aesthetic.jpg\", 8, 2000)"
   ]
  },
  {
   "cell_type": "code",
   "execution_count": null,
   "metadata": {},
   "outputs": [],
   "source": [
    "seno_atractor(-0.73-0.66im, mis_colores, 0.05, 2000, 5.0)"
   ]
  },
  {
   "cell_type": "markdown",
   "metadata": {},
   "source": [
    "Ahora consideremos el caso $\\lambda = e^{2 \\pi i \\xi}$ con $\\xi \\in \\mathbb{Q}$.\n",
    "\n",
    "Aunque hay una cantidad infinita de puntos críticos solo hay dos valores críticos, y son $\\pm \\lambda$. En este caso usaremos una trampa similar a la que usamos para polinomios cuadraticos con punto fijo parabólico. Dado que $\\sin$ es una función impar, las órbitas de $\\pm \\lambda$ son simétricas."
   ]
  },
  {
   "cell_type": "code",
   "execution_count": null,
   "metadata": {},
   "outputs": [],
   "source": [
    "function trampa_seno_parabolico(Z, λ, dir1, dir2, wdt, colores, eps=0.05, TOPE=5000)\n",
    "    cont = 0\n",
    "    while cont <= TOPE\n",
    "        if abs(Z) < eps && (angle(Z) > dir1 - wdt && angle(Z) < dir1 + wdt)\n",
    "            n = 1 + mod(cont, length(colores))\n",
    "            return colores[n]\n",
    "        elseif abs(Z) < eps && (angle(Z) > dir2 - wdt && angle(Z) < dir2 + wdt)\n",
    "            n = length(colores) - mod(cont, length(colores))\n",
    "            return colores[n]\n",
    "        elseif abs(imag(Z)) > 100.0\n",
    "            return RGB{Float32}(1.0, 1.0, 1.0) #color blanco\n",
    "        end\n",
    "        Z = λ*sin(Z)\n",
    "        cont += 1\n",
    "    end\n",
    "    return RGB{Float32}(0.0, 0.0, 0.0) #color negro\n",
    "end\n",
    "\n",
    "function seno_parabolico(p, q, colores, eps=0.05, TOPE=5000, radio=8.0, centro=0.0, alto=1000, ancho=1000)\n",
    "    λ = cos(2.0*pi*p/q) + sin(2.0*pi*p/q)*1.0im\n",
    "    cr = λ\n",
    "    for i = 1:TOPE\n",
    "        if abs(cr) < eps\n",
    "            break\n",
    "        end\n",
    "        cr = λ*sin(cr)\n",
    "    end\n",
    "    dir = angle(cr)\n",
    "    dir2 = angle(-cr)\n",
    "    wdt = pi*eps/(2.0*q)\n",
    "    broadcast(Z -> trampa_seno_parabolico(Z, λ, dir, dir2, wdt, colores, eps, TOPE), muestra(radio, centro, alto, ancho))\n",
    "end"
   ]
  },
  {
   "cell_type": "code",
   "execution_count": null,
   "metadata": {},
   "outputs": [],
   "source": [
    "seno_parabolico(2, 3, mis_colores, 0.5)"
   ]
  },
  {
   "cell_type": "markdown",
   "metadata": {},
   "source": [
    "De manera similar al caso cuadrático, suponiendo que conocemos el parámetro $\\theta$ tal que $$ e^{2 \\pi i \\theta} \\sin z$$ tiene un disco de Siegel centrado en $0$ podemos aplicar una trampa."
   ]
  },
  {
   "cell_type": "code",
   "execution_count": null,
   "metadata": {},
   "outputs": [],
   "source": [
    "function trampa_seno_siegel(Z, λ, rad, colores, TOPE=5000)\n",
    "    cont = 0\n",
    "    while cont <= TOPE\n",
    "        if abs(Z) < rad\n",
    "            n = 1 + mod(cont, length(colores))\n",
    "            return colores[n]\n",
    "        elseif abs(imag(Z)) > 100.0\n",
    "            return RGB{Float32}(1.0, 1.0, 1.0) #blanco si diverge a infinito\n",
    "        end\n",
    "        Z = λ*sin(Z)\n",
    "        cont += 1\n",
    "    end\n",
    "    return RGB{Float32}(0.0, 0.0, 0.0) #color negro si no concluye\n",
    "end\n",
    "\n",
    "function seno_siegel(θ, colores, TOPE=5000, radio=8.0, centro=0.0, alto=1000, ancho=1000)\n",
    "    λ = cos(2.0*pi*θ) + sin(2.0*pi*θ)*1.0im\n",
    "    cr = λ\n",
    "    rad = 1000.0\n",
    "    for i = 1:TOPE\n",
    "        cr = λ*sin(cr)\n",
    "        rad > abs(cr) ? rad = abs(cr) : nothing\n",
    "    end\n",
    "    broadcast(Z -> trampa_seno_siegel(Z, λ, rad, colores, TOPE), muestra(radio, centro, alto, ancho))\n",
    "end"
   ]
  },
  {
   "cell_type": "code",
   "execution_count": null,
   "metadata": {},
   "outputs": [],
   "source": [
    "seno_siegel(0.5*(sqrt(5.0) + 1.0), mis_colores)"
   ]
  },
  {
   "cell_type": "code",
   "execution_count": null,
   "metadata": {},
   "outputs": [],
   "source": []
  }
 ],
 "metadata": {
  "kernelspec": {
   "display_name": "Julia 0.6.5-pre",
   "language": "julia",
   "name": "julia-0.6"
  },
  "language_info": {
   "file_extension": ".jl",
   "mimetype": "application/julia",
   "name": "julia",
   "version": "0.6.5"
  }
 },
 "nbformat": 4,
 "nbformat_minor": 2
}
