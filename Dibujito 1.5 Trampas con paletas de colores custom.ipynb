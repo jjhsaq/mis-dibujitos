{
 "cells": [
  {
   "cell_type": "code",
   "execution_count": null,
   "metadata": {},
   "outputs": [],
   "source": [
    "using Images, Colors, Distributions\n",
    "\n",
    "function muestra(radio=2.0, centro=0.0im, alto=1000, ancho=1000)\n",
    "    dx=(2.0*radio)/(1.0*ancho)  #el ancho que representa un pixel\n",
    "    dy=(2.0im*radio)/(1.0*alto) #el alto que representa un pixel\n",
    "    z0 = centro + radio*(1.0im - 1.0) #el primer valor de la muestra es la esquina superior izquierda\n",
    "    return [z0 + (x*dx) - (y*dy) for y in 0:alto-1, x in 0:ancho-1]\n",
    "end"
   ]
  },
  {
   "cell_type": "markdown",
   "metadata": {},
   "source": [
    "# Paletas de colores custom\n",
    "\n",
    "Hasta ahora la eleccion de colores solo muestra el tiempo de escape.\n",
    "Nos recordamos que el espacio de colores es de dimensión 3, asi que podemos codificar informacion de tipo tridimensional en los colores que elegimos. El tiempo de escape es una *informacion unidimensional*.\n",
    "\n",
    "Los dos grados de libertad que tenemos nos permiten elegir paletas que se adecuen a la estética deseada.\n",
    "\n",
    "En este ejemplo obtendremos una paleta de colores a partir de una caminata aletatoria sobre una imagen. La función ``moneda`` regresa un numero entero entre -N y N distribuido de manera uniforme. La función ``paleta`` carga la imagen en la ruta indicada en el parametro ``mi_foto`` y realiza una caminata aleatoria con la distribución dada por ``moneda(paso)`` hasta llenar un arreglo de colores del ``tamaño`` indicado."
   ]
  },
  {
   "cell_type": "code",
   "execution_count": null,
   "metadata": {},
   "outputs": [],
   "source": [
    "function moneda(N)\n",
    "    ceil(Int64, round(rand(Uniform(-N-0.499, N+0.499))))\n",
    "end\n",
    "\n",
    "function paleta(mi_foto, paso, tamaño)\n",
    "    aesthetics = load(mi_foto)\n",
    "    alto, ancho =size(aesthetics)\n",
    "    x0 = ceil(Int64, rand(Uniform(0,ancho)))\n",
    "    #x0 = ceil(Int64, ancho/3)\n",
    "    y0 = ceil(Int64, rand(Uniform(0,alto)))\n",
    "    #y0 = ceil(Int64, alto/2)\n",
    "    paleta = zeros(RGB{N0f8}, tamaño)\n",
    "    for i = 1:length(paleta)\n",
    "        paleta[i] = aesthetics[mod(y0,alto)+1,mod(x0,ancho)+1]\n",
    "        x0 = x0 + moneda(paso)\n",
    "        y0 = y0 + moneda(paso)\n",
    "    end\n",
    "    return paleta\n",
    "end"
   ]
  },
  {
   "cell_type": "markdown",
   "metadata": {},
   "source": [
    "La imagen que usaremos en el ejemplo es la siguiente:"
   ]
  },
  {
   "cell_type": "code",
   "execution_count": null,
   "metadata": {},
   "outputs": [],
   "source": [
    "load(\"aesthetic.jpg\")"
   ]
  },
  {
   "cell_type": "markdown",
   "metadata": {},
   "source": [
    "Cargaremos una paleta en ``mis_colores`` para los ejemplos siguientes.\n",
    "\n",
    "De nuevo, la trampa será el complemento de un disco centrado en el origen."
   ]
  },
  {
   "cell_type": "code",
   "execution_count": null,
   "metadata": {},
   "outputs": [],
   "source": [
    "mis_colores = paleta(\"aesthetic.jpg\", 10, 1000)"
   ]
  },
  {
   "cell_type": "code",
   "execution_count": null,
   "metadata": {},
   "outputs": [],
   "source": [
    "function mi_trampa_custom(Z, F, paleta, R=3.0, TOPE=1000)\n",
    "    cont = 0\n",
    "    while cont <= TOPE\n",
    "        if(abs(Z) > R) \n",
    "            n = 1 + mod(cont, length(paleta))\n",
    "            return paleta[n]\n",
    "        end\n",
    "        Z = F(Z)\n",
    "        cont = cont + 1\n",
    "    end\n",
    "    return RGB{Float64}(0.0, 0.0, 0.0) #negro\n",
    "end"
   ]
  },
  {
   "cell_type": "code",
   "execution_count": null,
   "metadata": {},
   "outputs": [],
   "source": [
    "function mandelbrot_custom(paleta, R=2.0, TOPE=1000, centro=0.0, radio=2.0, ancho=1000, alto=1000)\n",
    "    broadcast(C -> mi_trampa_custom(0.0, z -> z^2 + C, paleta, R, TOPE), muestra(radio, centro, alto, ancho))\n",
    "end"
   ]
  },
  {
   "cell_type": "code",
   "execution_count": null,
   "metadata": {},
   "outputs": [],
   "source": [
    "mandelbrot_custom(mis_colores)"
   ]
  },
  {
   "cell_type": "code",
   "execution_count": null,
   "metadata": {},
   "outputs": [],
   "source": [
    "mandelbrot_custom(mis_colores, 2.0, 500, -0.75, 1.4)"
   ]
  },
  {
   "cell_type": "code",
   "execution_count": null,
   "metadata": {},
   "outputs": [],
   "source": [
    "mandelbrot_custom(mis_colores, 2.0, 1000, -0.0232+0.999im, 0.0005)"
   ]
  },
  {
   "cell_type": "markdown",
   "metadata": {},
   "source": [
    "## Suavizado de iteraciones\n",
    "\n",
    "La versión anterior de la trampa cuenta el número de iteraciones que le toma al punto evaluado en llegar a la región de escape, por lo que el *tiempo de escape* es siempre un numero entero.\n",
    "\n",
    "Modificaremos el algoritmo para que el resultado sea un numero de punto flotante. El color que se escogera será el corespondiente a una interpolacion del color asociado a la parte entera de este tiempo suavizado y el siguiente en el arreglo de colores deseado.\n",
    "\n",
    "Por ejemplo, en lugar de aportar ``+1`` a la cuenta, cada iteración aportará una cantidad proporcional a la distancia (esférica ``sph_dist`` o en la carta al infinito ``inf_dist``) entre el punto actual y el anterior. \n",
    "\n",
    "Es posible modificar el algoritmo para dibujar el conjunto de Mandelbrot usando la función de Green de su complemento. Esa modificación se deja al usuario :)"
   ]
  },
  {
   "cell_type": "code",
   "execution_count": null,
   "metadata": {},
   "outputs": [],
   "source": [
    "sph_dist(Z, W) = (2.0*abs(Z-W))/sqrt((1.0 + abs(Z)^2)*(1.0 + abs(W)^2))\n",
    "\n",
    "inf_dist(Z, W) = abs(Z-W)/abs(Z*W)\n",
    "\n",
    "function mi_trampa_suave(Z, F, paleta, R=3.0, TOPE=1000)\n",
    "    cont = 0\n",
    "    S = 0.0\n",
    "    W = F(Z)\n",
    "    while cont <= TOPE\n",
    "        if(abs(Z) > R)\n",
    "            n = floor(Int64, S)\n",
    "            ϵ = S - n\n",
    "            n = mod(n, length(paleta)-1)\n",
    "            return (1.0-ϵ)*paleta[n+1] + (ϵ)*paleta[n+2]\n",
    "        end\n",
    "        S += 1.0 - exp(-0.2*inf_dist(Z,W))\n",
    "        Z = W\n",
    "        W = F(Z)\n",
    "        cont += 1\n",
    "    end\n",
    "    return RGB{Float64}(0.0, 0.0, 0.0) #negro\n",
    "end"
   ]
  },
  {
   "cell_type": "code",
   "execution_count": null,
   "metadata": {},
   "outputs": [],
   "source": [
    "function mandelbrot_custom_suave(paleta, R=2.0, TOPE=1000, centro=0.0, radio=2.0, ancho=1000, alto=1000)\n",
    "    broadcast(C -> mi_trampa_suave(0.0, z -> z^2 + C, paleta, R, TOPE), muestra(radio, centro, alto, ancho))\n",
    "end"
   ]
  },
  {
   "cell_type": "code",
   "execution_count": null,
   "metadata": {},
   "outputs": [],
   "source": [
    "mandelbrot_custom_suave(mis_colores)"
   ]
  },
  {
   "cell_type": "code",
   "execution_count": null,
   "metadata": {},
   "outputs": [],
   "source": [
    "mandelbrot_custom_suave(mis_colores, 2.0, 500, -0.75, 1.4)"
   ]
  },
  {
   "cell_type": "code",
   "execution_count": null,
   "metadata": {},
   "outputs": [],
   "source": [
    "mandelbrot_custom_suave(mis_colores, 2.0, 1000, -0.0232+0.999im, 0.0005)"
   ]
  },
  {
   "cell_type": "code",
   "execution_count": null,
   "metadata": {},
   "outputs": [],
   "source": []
  }
 ],
 "metadata": {
  "kernelspec": {
   "display_name": "Julia 0.6.5-pre",
   "language": "julia",
   "name": "julia-0.6"
  },
  "language_info": {
   "file_extension": ".jl",
   "mimetype": "application/julia",
   "name": "julia",
   "version": "0.6.5"
  }
 },
 "nbformat": 4,
 "nbformat_minor": 2
}
