{
 "cells": [
  {
   "cell_type": "code",
   "execution_count": null,
   "metadata": {},
   "outputs": [],
   "source": [
    "using Images, Colors, Distributions\n",
    "\n",
    "function muestra(radio=2.0, centro=0.0im, alto=1000, ancho=1000)\n",
    "    dx=(2.0*radio)/(1.0*ancho) #el ancho que representa un pixel\n",
    "    dy=(2.0im*radio)/(1.0*alto)#el alto que representa un pixel\n",
    "    z0 = centro + radio*(1.0im - 1.0) #el primer valor de la muestra es la esquina superior izquierda\n",
    "    return [z0 + (x*dx) - (y*dy) for y in 1:alto, x in 1:ancho]\n",
    "end"
   ]
  },
  {
   "cell_type": "markdown",
   "metadata": {},
   "source": [
    "# Ejemplo 1: **El método de Newton**\n",
    "\n",
    "Veamos un ejemplo de dibujitos dinámicos con información *apriori*. \n",
    "\n",
    "Nos recordamos que el método de Newton es un algoritmo para aproximar raíces de funciones holomorfas. \n",
    "Sea $r$ una raíz de la función $f(r)=0$ y $z$ una aproximación de la raíz.\n",
    "Considerando la expansión en serie de potencias de $f$ alrededor de $z$, $$ f(x) = f(z) + f'(z) (x - z) + O((x-z)^2), $$ \n",
    "y suponiendo que $z$ esta suficientemente cerca de $r$ como para que $O((z-r)^2)$ sea un error descartable, para $x=r$ tenemos $ 0 = f(r) = f(z)  + f'(z) (r - z) + \\epsilon $ y podemos obtener una nueva estimación para $r$ como $$ z^* := r + \\varepsilon = z - \\frac{f(z)}{f'(z)}.$$\n",
    "De esta forma, definimos el metodo de Newton para $f$ como la función $$N_f(z) = z - \\frac{f(z)}{f'(z)}$$\n",
    "\n",
    "## Algunos detalles curiosos del método de Newton\n",
    "\n",
    "- La derivada del método de Newton es  $$N'_f (z) = \\frac{f(z) f''(z)}{(f'(z))^2}.$$\n",
    "\n",
    "- Los puntos fijos de $N_f$ son la soluciones de la ecuación $$ \\frac{f(z)}{f'(z)} = 0, $$ que incluyen las raíces de $f$ y el punto $\\infty$.\n",
    "\n",
    "- Las raices de $f$ son atractores (superatractores si son raíces simples) y el punto $\\infty$ es repulsor.\n",
    "\n",
    "Para empezar vamos a ver el caso de polinomios complejos. \n",
    "Haremos el dibujito de las cuencas de atracción de las raíces del polinomio conociendo de antemano cuáles son las raíces.\n",
    "\n",
    "Si aplicamos el método de Newton a polinomios, podemos expresar $N_{p}$ como $$ N_p(z) = z - \\cfrac{1}{\\sum_{i=1}^ {d}\\frac{1}{z - \\rho_i}} $$ donde $\\rho_i$ es la $i$-ésima raiz de $p$."
   ]
  },
  {
   "cell_type": "code",
   "execution_count": null,
   "metadata": {},
   "outputs": [],
   "source": [
    "function trampa_newton_polinomios(Z, raices, eps = 0.05, TOPE = 1000)  \n",
    "    cont = 0\n",
    "    while cont <= TOPE\n",
    "        for t in 1:length(raices) #para cada raiz revisar\n",
    "            if abs(Z - raices[t]) <= eps #si esta cerca regresar un color HSV\n",
    "                return HSV{Float64}((360.0*t)/length(raices), 1.0 ,exp(-0.05*cont))\n",
    "                #el tono H depende de la raiz y el brillo V depende del tiempo\n",
    "            end\n",
    "        end\n",
    "        S = sum([(1.0/(Z-R)) for R in raices])\n",
    "        Z -= 1.0/S\n",
    "        cont = cont + 1\n",
    "    end\n",
    "    return HSV{Float64}(0.0, 0.0, 0.0) #negro en cualquier otro caso\n",
    "end"
   ]
  },
  {
   "cell_type": "markdown",
   "metadata": {},
   "source": [
    "La función anterior, ``trampa_newton_polinomios``, toma como parametros el punto que se va a evaluar ``Z``, un arreglo de numeros complejos con las raices del polinomio ``raices``, el radio de las trampas ``eps`` y la cantidad máxima de itraciones permitidas ``TOPE``.\n",
    "\n",
    "La función ``newton_polinomios`` aplica la trampa anterior a una muestra del plano complejo:"
   ]
  },
  {
   "cell_type": "code",
   "execution_count": null,
   "metadata": {},
   "outputs": [],
   "source": [
    "function newton_polinomios(raices, eps = 0.05, TOPE = 1000, radio=2.0, centro=0.0im, alto=1000, ancho=1000)\n",
    " broadcast(Z -> trampa_newton_polinomios(Z, raices, eps, TOPE), muestra(radio, centro, alto, ancho))\n",
    "end"
   ]
  },
  {
   "cell_type": "markdown",
   "metadata": {},
   "source": [
    "Hagamos el dibujito del método de Newton para el polinomio $p(z) = z^N - 1$.\n",
    "Para esto hacemos un arreglo ``mis_raices`` con la $N$-ésimas raices de la unidad y pasamos este arreglo a nuestra función ``newton_polinomios``."
   ]
  },
  {
   "cell_type": "code",
   "execution_count": null,
   "metadata": {},
   "outputs": [],
   "source": [
    "N = 5\n",
    "mis_raices = [exp(2.0im*pi*i/N) for i = 1:N]\n",
    "newton_polinomios(mis_raices, 0.1, 500, 3.0)"
   ]
  },
  {
   "cell_type": "markdown",
   "metadata": {},
   "source": [
    "Ahora inicializamos el arreglo ``rand_raices`` con numeros aleatorios, con sus partes real e imaginaria distribuidas uniformemente en el intervalo $[-1, 1]$."
   ]
  },
  {
   "cell_type": "code",
   "execution_count": null,
   "metadata": {},
   "outputs": [],
   "source": [
    "N = 15\n",
    "rand_raices = [rand(Uniform(-1,1)) + 1.0im*rand(Uniform(-1,1)) for i = 1:N]\n",
    "newton_polinomios(rand_raices)"
   ]
  },
  {
   "cell_type": "markdown",
   "metadata": {},
   "source": [
    "# Espacio de parametros del método de Newton para polinomios cúbicos\n",
    "\n",
    "El método de Newton para polinomios cuadráticos esta conjugado a la función $z \\mapsto z^2$ por un mapeo Möbius que lleva las raices a los puntos $0$ e $\\infty$.\n",
    "\n",
    "Consideremos polinomios cúbicos con al menos dos raíces distintas.\n",
    "Salvo transformaciones afines del plano podemos suponer que los puntos $0$ y $1$ son raices del polinomio cúbico. El espacio de parámetros será la tercera raiz $\\rho$, de esta forma el polinomio es $$p_{\\rho}(z) = z(z - 1)(z- \\rho).$$\n",
    "\n",
    "El método de Newton para $p_{\\rho}$ es una función racional de la forma $$N_{\\rho}(z) = z - \\frac{1}{\\frac{1}{z} + \\frac{1}{z-1} + \\frac{1}{z-\\rho}}.$$ \n",
    "Los puntos críticos de $N_{\\rho}$ son las raices de $p_{\\rho}$, $\\{ 0, 1, \\rho \\}$, y el punto de inflexión (o baricentro) $\\frac{1+\\rho}{3}$. \n",
    "\n",
    "Conocemos la dinámica de las raíces; son puntos fijos superatractores. La dinamica del cuarto punto critico la podemos pintar en un dibujito. En este ejemplo la muestra será del espacio de parámetros $\\rho$ y usaremos un algoritmo de escape (trampas) para perseguir la órbita del punto critico libre y, en caso de que converja a alguna raiz, pintaremos de un color dependiendo de a que raiz converge y cuanto tiempo le toma."
   ]
  },
  {
   "cell_type": "code",
   "execution_count": null,
   "metadata": {},
   "outputs": [],
   "source": [
    "function trampa_newton_param3(rho, eps=0.005, TOPE=1000)\n",
    "    cont = 0\n",
    "    Z = (rho + 1.0)/3.0 #el valor inicial es el punto critico libre\n",
    "    while cont <= TOPE\n",
    "        if abs(Z) < eps \n",
    "            #si se acerca a la raiz cero\n",
    "            return HSV{Float64}(0.0, 1.0 ,exp(-(50.0/TOPE)*cont))\n",
    "        elseif abs(Z - 1.0) < eps \n",
    "            #si se acerca a la raiz uno\n",
    "            return HSV{Float64}(240.0, 1.0 ,exp(-(50.0/TOPE)*cont))\n",
    "        elseif abs(Z - rho) < eps\n",
    "            #si se acerca a la raiz rho\n",
    "            return HSV{Float64}(120.0, 1.0 ,exp(-(50.0/TOPE)*cont))\n",
    "        end\n",
    "        Z -= 1.0/((1.0/Z)+(1.0/(Z-1.0))+(1.0/(Z-rho))) #Newton\n",
    "        cont += 1\n",
    "    end\n",
    "    return HSV{Float64}(0.0, 0.0 ,0.0) #negro en cualquier otro caso\n",
    "end"
   ]
  },
  {
   "cell_type": "code",
   "execution_count": null,
   "metadata": {},
   "outputs": [],
   "source": [
    "function newton_param3(eps = 0.005, TOPE = 1000, radio=0.75, centro=0.5+0.5im, alto=1000, ancho=1000)\n",
    "    broadcast(Z -> trampa_newton_param3(Z, eps, TOPE), muestra(radio, centro, alto, ancho))\n",
    "end"
   ]
  },
  {
   "cell_type": "code",
   "execution_count": null,
   "metadata": {},
   "outputs": [],
   "source": [
    "newton_param3()"
   ]
  },
  {
   "cell_type": "markdown",
   "metadata": {},
   "source": [
    "Veamos unos zoom-zoom de la imagen anterior:"
   ]
  },
  {
   "cell_type": "code",
   "execution_count": null,
   "metadata": {},
   "outputs": [],
   "source": [
    "newton_param3(0.05, 1500, 0.05, 0.816+0.58im)"
   ]
  },
  {
   "cell_type": "code",
   "execution_count": null,
   "metadata": {},
   "outputs": [],
   "source": [
    "newton_param3(0.05, 2000, 0.014, 0.7895+0.6063im)"
   ]
  },
  {
   "cell_type": "markdown",
   "metadata": {},
   "source": [
    "Veamos el dibujito de la dinamica del método de newton para el parametro del centro del dibujo anterior, cercano al 1/3-brazo del mandelbrotcito."
   ]
  },
  {
   "cell_type": "code",
   "execution_count": null,
   "metadata": {},
   "outputs": [],
   "source": [
    "newton_polinomios([0.0, 1.0, 0.7895+0.6063im], 0.05, 100, 0.55, 0.5+0.2im)"
   ]
  },
  {
   "cell_type": "markdown",
   "metadata": {},
   "source": [
    "## ¿Qué pasa en el caso de grado 4?\n",
    "\n",
    "Para empezar, el espacio de parámetros es de dimensión compleja 2, por lo que no podemos hacer un dibujito de todo el espacio de parámetros. Pero podemos expermientar.\n",
    "\n",
    "Consideremos la subfamilia de polinomios de grado 4 dada por $q_{\\rho} (z) = (z^3 - 1)(z - \\rho)$. Los puntos criticos del método de Newton para esta familia, además de las raíces de $q_{\\rho}$, son los puntos $0$ y $\\frac{\\rho}{2}$.\n",
    "\n",
    "Ahora bien, el método de Newton toma la forma $$N_{q_{\\rho}}(z) = \\frac{3 z^4 - 2 \\rho z^3 - \\rho}{4 z^3- 3 \\rho z^2 -1}$$ y tenemos que $$ N_{q_{\\rho}} : 0 \\mapsto \\rho \\mapsto \\rho.$$\n",
    "\n",
    "Veamos que pasa con el punto crítico $\\frac{\\rho}{2}$ haciendo el dibujito:"
   ]
  },
  {
   "cell_type": "code",
   "execution_count": null,
   "metadata": {},
   "outputs": [],
   "source": [
    "function trampa_newton4_experimental(rho, eps=0.005, TOPE=1000)\n",
    "    cont = 0\n",
    "    Z = rho/2.0 #el valor inicial es el punto critico libre\n",
    "    ω = cos(2.0*pi/3.0) + 1.0im*sin(2.0*pi/3.0) #la raiz primitiva cubica\n",
    "    while cont <= TOPE\n",
    "        if abs(Z - 1.0) < eps \n",
    "            #si se acerca a la raiz uno\n",
    "            return HSV{Float64}(0.0, 1.0 ,exp(-(50.0/TOPE)*cont))\n",
    "        elseif abs(Z - ω) < eps \n",
    "            #si se acerca a la raiz ω\n",
    "            return HSV{Float64}(120.0, 1.0 ,exp(-(50.0/TOPE)*cont))\n",
    "        elseif abs(Z - ω*ω) < eps\n",
    "            #si se acerca a la raiz ω^2\n",
    "            return HSV{Float64}(240.0, 1.0 ,exp(-(50.0/TOPE)*cont))\n",
    "        elseif abs(Z - rho) < eps\n",
    "            #si se acerca a la raiz rho\n",
    "            return HSV{Float64}(60.0, 1.0 ,exp(-(50.0/TOPE)*cont))\n",
    "        end\n",
    "        Z = (-rho + Z*Z*Z*(-2.0*rho + 3.0*Z))/(-1.0 + Z*Z*(-3.0*rho + 4.0*Z)) #Newton\n",
    "        cont += 1\n",
    "    end\n",
    "    return HSV{Float64}(0.0, 0.0 ,0.0) #negro en cualquier otro caso\n",
    "end"
   ]
  },
  {
   "cell_type": "code",
   "execution_count": null,
   "metadata": {},
   "outputs": [],
   "source": [
    "function newton_param4_expermiental(eps = 0.005, TOPE = 1000, radio=5.0, centro=0.0, alto=1000, ancho=1000)\n",
    "    broadcast(Z -> trampa_newton4_experimental(Z, eps, TOPE), muestra(radio, centro, alto, ancho))\n",
    "end"
   ]
  },
  {
   "cell_type": "code",
   "execution_count": null,
   "metadata": {},
   "outputs": [],
   "source": [
    "newton_param4_expermiental()"
   ]
  },
  {
   "cell_type": "markdown",
   "metadata": {},
   "source": [
    "De nuevo, veamos unos zoom-zoom:"
   ]
  },
  {
   "cell_type": "code",
   "execution_count": null,
   "metadata": {},
   "outputs": [],
   "source": [
    "newton_param4_expermiental(0.005, 1500, 0.8, 1.4+1.9im)"
   ]
  },
  {
   "cell_type": "code",
   "execution_count": null,
   "metadata": {},
   "outputs": [],
   "source": [
    "newton_param4_expermiental(0.005, 2000, 0.05, 1.457+1.902im)"
   ]
  },
  {
   "cell_type": "markdown",
   "metadata": {},
   "source": [
    "Veamos el dibujito del método de Newton para $q_{\\rho}$ con el parámetro del centro del dibujo anterior."
   ]
  },
  {
   "cell_type": "code",
   "execution_count": null,
   "metadata": {},
   "outputs": [],
   "source": [
    "ω = cos(2.0*pi/3.0) + 1.0im*sin(2.0*pi/3.0) #la raiz primitiva cubica\n",
    "newton_polinomios([1.0, ω, ω*ω, 1.457+1.902im], 0.05, 200, 2.0, 0.4+0.4im)"
   ]
  },
  {
   "cell_type": "markdown",
   "metadata": {},
   "source": [
    "## ¿Qué pasa con otras *rebanadas* del espacio de parámetros?\n",
    "\n",
    "Ahora consideremos otra familia uni-parametrica de polinomios de grado cuatro. Sea ahora $q_{\\rho} (z) = z(z^2 +1)(z - \\rho)$.\n",
    "\n",
    "El método de Newton para $q_{\\rho}$ es $$ N_{q_{\\rho}}(z) = \\frac{3 z^4 - 2 \\rho z^3 + z^2}{4 z^3 - 3 \\rho z^2 + 2 z -\\rho}. $$\n",
    "Sus puntos críticos, ademas de las raíces, son: $$ \\frac{3 \\rho \\pm \\sqrt{9 \\rho^2 - 24} }{12}$$ \n",
    "\n",
    "Hagamos el dibujito correspondiente al punto critico +:"
   ]
  },
  {
   "cell_type": "code",
   "execution_count": null,
   "metadata": {},
   "outputs": [],
   "source": [
    "function raiz_cuadrada_newton(Z)\n",
    "    t = angle(Z)\n",
    "    if t < 0\n",
    "        t = 2.0*pi + t\n",
    "    end\n",
    "    z0 = cos(t/2.0) + sin(t/2.0)*1.0im\n",
    "    z1 = (z0/2.0) + Z/(2.0*z0)\n",
    "    while abs(z0 - z1) > 1.0e-10\n",
    "        z0 = z1\n",
    "        z1 = (z0/2.0) + Z/(2.0*z0)\n",
    "    end\n",
    "    return z1\n",
    "end\n",
    "\n",
    "function trampa_newton4_experimental2(rho, eps=0.005, TOPE=1000)\n",
    "    cont = 0\n",
    "    #el valor inicial es el punto critico libre\n",
    "    #Z = (3.0*rho + sqrt(9.0*rho*rho - 24.0))/12.0 \n",
    "    Z =  (3.0*rho + raiz_cuadrada_newton(9.0*rho*rho - 24.0))/12.0 \n",
    "    while cont <= TOPE\n",
    "        if abs(Z) < eps \n",
    "            #si se acerca a la raiz cero\n",
    "            return HSV{Float64}(0.0, 1.0 ,exp(-(50.0/TOPE)*cont))\n",
    "        elseif abs(Z - 1.0im) < eps \n",
    "            #si se acerca a la raiz i\n",
    "            return HSV{Float64}(120.0, 1.0 ,exp(-(50.0/TOPE)*cont))\n",
    "        elseif abs(Z + 1.0im) < eps\n",
    "            #si se acerca a la raiz -i\n",
    "            return HSV{Float64}(240.0, 1.0 ,exp(-(50.0/TOPE)*cont))\n",
    "        elseif abs(Z - rho) < eps\n",
    "            #si se acerca a la raiz rho\n",
    "            return HSV{Float64}(60.0, 1.0 ,exp(-(50.0/TOPE)*cont))\n",
    "        end\n",
    "        Z = (Z*Z*(1.0 + Z*(-2.0*rho + 3.0*Z)))/(-rho + Z*(2.0 + Z*(-3.0*rho + 4.0*Z))) #Newton\n",
    "        cont += 1\n",
    "    end\n",
    "    return HSV{Float64}(0.0, 0.0 ,0.0) #negro en cualquier otro caso\n",
    "end"
   ]
  },
  {
   "cell_type": "code",
   "execution_count": null,
   "metadata": {},
   "outputs": [],
   "source": [
    "function newton_param4_expermiental2(eps = 0.005, TOPE = 1000, radio=2.0, centro=0.0, alto=1000, ancho=1000)\n",
    "    broadcast(Z -> trampa_newton4_experimental2(Z, eps, TOPE), muestra(radio, centro, alto, ancho))\n",
    "end"
   ]
  },
  {
   "cell_type": "code",
   "execution_count": null,
   "metadata": {},
   "outputs": [],
   "source": [
    "newton_param4_expermiental2()"
   ]
  },
  {
   "cell_type": "markdown",
   "metadata": {},
   "source": [
    "Modifique usted el codigo anterior para usar el otro punto critico.\n",
    "\n",
    "¿Que pasa si usamos la funcion ``sqrt`` para calcular la raiz cuadrada en el computo del punto critico?"
   ]
  },
  {
   "cell_type": "markdown",
   "metadata": {},
   "source": [
    "Veamos unos zoom-zoom del espacio de parametros:"
   ]
  },
  {
   "cell_type": "code",
   "execution_count": null,
   "metadata": {},
   "outputs": [],
   "source": [
    "newton_param4_expermiental2(0.005, 1500, 0.025, 0.5 +0.25im)"
   ]
  },
  {
   "cell_type": "markdown",
   "metadata": {},
   "source": [
    "Veamos el dibujito del método de Newton para el parámetro en el centro del dibujito anterior y tambień para el conjugado complejo del mismo parámetro."
   ]
  },
  {
   "cell_type": "code",
   "execution_count": null,
   "metadata": {},
   "outputs": [],
   "source": [
    "newton_polinomios([0.0, 1.0im, -1.0im, 0.5+0.25im], 0.05, 100, 2.0, 0.0)"
   ]
  },
  {
   "cell_type": "code",
   "execution_count": null,
   "metadata": {},
   "outputs": [],
   "source": [
    "newton_polinomios([0.0, 1.0im, -1.0im, 0.5-0.25im], 0.05, 100, 2.0, 0.0)"
   ]
  },
  {
   "cell_type": "code",
   "execution_count": null,
   "metadata": {},
   "outputs": [],
   "source": []
  }
 ],
 "metadata": {
  "kernelspec": {
   "display_name": "Julia 0.6.5-pre",
   "language": "julia",
   "name": "julia-0.6"
  },
  "language_info": {
   "file_extension": ".jl",
   "mimetype": "application/julia",
   "name": "julia",
   "version": "0.6.5"
  }
 },
 "nbformat": 4,
 "nbformat_minor": 2
}
