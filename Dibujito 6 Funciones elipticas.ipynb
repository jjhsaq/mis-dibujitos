{
 "cells": [
  {
   "cell_type": "code",
   "execution_count": null,
   "metadata": {},
   "outputs": [],
   "source": [
    "using Images, Colors, Distributions\n",
    "\n",
    "function muestra(radio=2.0, centro=0.0im, alto=1000, ancho=1000)\n",
    "    dx=(2.0*radio)/(1.0*ancho) #el ancho que representa un pixel\n",
    "    dy=(2.0im*radio)/(1.0*alto)#el alto que representa un pixel\n",
    "    z0 = centro + radio*(1.0im - 1.0) #el primer valor de la muestra es la esquina superior izquierda\n",
    "    return [z0 + (x*dx) - (y*dy) for y in 1:alto, x in 1:ancho]\n",
    "end\n",
    "\n",
    "function moneda(N)\n",
    "    ceil(Int64, round(rand(Uniform(-N-0.499, N+0.499))))\n",
    "end\n",
    "\n",
    "function paleta(mi_foto, paso, tamaño)\n",
    "    aesthetics = load(mi_foto)\n",
    "    alto, ancho =size(aesthetics)\n",
    "    x0 = ceil(Int64, rand(Uniform(0,ancho)))\n",
    "    #x0 = ceil(Int64, ancho/2)\n",
    "    y0 = ceil(Int64, rand(Uniform(0,alto)))\n",
    "    #y0 = ceil(Int64, alto/2)\n",
    "    paleta = zeros(RGB{N0f8}, tamaño)\n",
    "    for i = 1:length(paleta)\n",
    "        paleta[i] = aesthetics[mod(y0,alto)+1,mod(x0,ancho)+1]\n",
    "        x0 = x0 + moneda(paso)\n",
    "        y0 = y0 + moneda(paso)\n",
    "    end\n",
    "    return paleta\n",
    "end"
   ]
  },
  {
   "cell_type": "markdown",
   "metadata": {},
   "source": [
    "# Iteración de funciones elípticas\n",
    "\n",
    "En este ejemplo vamos a dibujar la dinámica de algunas variaciones de la función $\\wp$ de Weierstrass. Para evaluar la función $\\wp$ vamos a usar una aproximación numérica con ayuda de la función de Lateés asociada.\n",
    "\n",
    "Una reticula es un subgrupo aditivo de $\\mathbb{C}$ de dos generadores. Podemos escribirlo como $$ \\Lambda (\\omega_1 , \\omega_2) =  \\{ n \\omega_1  + m \\omega_2 : n, m \\in \\mathbb{Z} \\}, $$ donde $\\omega_1, \\omega_2 \\in \\mathbb{C}$ son generadores. Al toro cociente lo denotaremos $\\mathbb{T}(\\omega_1, \\omega_2) = \\mathbb{C} / \\Lambda(\\omega_1, \\omega_2)$.\n",
    "\n",
    "La función $\\wp: \\mathbb{C} \\rightarrow \\hat{\\mathbb{C}}$ es, salvo elección de cartas, la proyección del plano complejo al cociente $\\mathbb{T}(\\omega_1, \\omega_2) / \\iota \\simeq \\hat{\\mathbb{C}}$, donde $\\iota$ es la involución del toro inducida por $z \\mapsto -z$. Una formula para esta función es $$ \\wp(z) = \\frac{1}{z^2} + \\sum_{\\omega \\in \\Lambda \\setminus 0} \\left( \\frac{1}{(z - \\omega)^2} - \\frac{1}{\\omega^2} \\right).$$\n",
    "\n",
    "Nos recordamos que la función de Lateés asociada a una retícula es la funcion racional $L: \\hat{\\mathbb{C}} \\rightarrow \\hat{\\mathbb{C}}$ que esta semiconjugada mediante $\\wp$ a un homomorfismo de la retícula de la forma $z \\mapsto n z$ con $n \\in \\mathbb{Z}$. En otras palabras, si $n: z \\mapsto n z$ es el homomorfismo de la retícula $\\Lambda$, tenemos la ecuación dinámica dada por la semiconjugación$$ \\wp(n^k z) = L^k \\circ \\wp (z).$$ \n",
    "\n",
    "En una vecindad del origen podemos aproximar la función $\\wp$ por un truncamiento de su serie de Laurent $$\\wp(z) \\approx \\frac{1}{z^2} + \\frac{G_2}{20} z^2 + \\frac{G_3}{28} z^4 =: Q(z),$$ donde $G_2$ y $G_3$ son los *invariantes modulares* de la retícula, dados por $$G_2(\\Lambda) = 60 \\sum_{\\omega \\in \\Lambda \\setminus 0}\\left(\\frac{1}{\\omega^4}\\right), \\hspace{2em} G_3(\\Lambda) = 140 \\sum_{\\omega \\in \\Lambda \\setminus 0}\\left(\\frac{1}{\\omega^6}\\right) .$$\n",
    "\n",
    "Aplicando la inversa de $n$ a la ecuación dinámica y sustituyendo el trucnamiento de la serie de Laurent de $\\wp$ obtenemos $$ \\wp(z) \\approx L^k \\circ Q \\left( \\frac{z}{n^k} \\right).$$\n",
    "\n",
    "En la siguiente función ``WP`` usamos $n=2$ y la función de Lateés correspondiente es $$ L(z) = \\cfrac{(6 z^2 - \\frac{G_2}{2})^2}{4(4 z^3 - z G_2 - G_3)} - 2 z.$$"
   ]
  },
  {
   "cell_type": "code",
   "execution_count": null,
   "metadata": {},
   "outputs": [],
   "source": [
    "function WP(Z, G2, G3, K)\n",
    "    W = Z/(2.0^K)\n",
    "    W = 1.0/(W*W) + (G2*W*W)/20.0 + (G3*W*W*W*W)/28.0\n",
    "    for i = 1:K\n",
    "        W = -2.0*W + (6.0*W*W - 0.5*G2)*(6.0*W*W - 0.5*G2)/(4.0*(4.0*W*W*W - G2*W - G3))\n",
    "    end\n",
    "    return W\n",
    "end"
   ]
  },
  {
   "cell_type": "markdown",
   "metadata": {},
   "source": [
    "Para empezar, sabemos que $\\wp$ tiene un polo de orden dos en cada punto de la retícula $\\Lambda$ y que sus puntos críticos son los *periodos medios* $$\\left\\{ \\frac{n \\omega_1 + m \\omega_2}{2} : n, m \\in \\mathbb{Z} \\right\\}$$ donde $ \\omega_1 , \\omega_2$ son generadores de $\\Lambda$.\n",
    "\n",
    "## Primer dibujito elíptico: iteración de $1 / \\wp$\n",
    "\n",
    "La función elíptica $1 / \\wp$ tiene un cero de orden dos en el origen, es decir, un punto fijo superatractor en cero. El dibujito que haremos será la trampa de este atractor."
   ]
  },
  {
   "cell_type": "code",
   "execution_count": null,
   "metadata": {},
   "outputs": [],
   "source": [
    "function trampa_eliptica_Pinv(Z, G2, G3, K, paleta, eps=0.05, TOPE=1000)\n",
    "    cont = 0\n",
    "    while cont <= TOPE\n",
    "        if abs(Z) < eps\n",
    "            n = 1 + mod(cont, length(paleta))\n",
    "            return paleta[n]\n",
    "        end\n",
    "        Z = 1.0/WP(Z, G2, G3, K)\n",
    "        cont += 1\n",
    "    end\n",
    "    return RGB{Float32}(0.0, 0.0, 0.0) #color negro\n",
    "end\n",
    "\n",
    "function Pinv_atractor(G2, G3, K, paleta, eps=0.05, TOPE=1000,radio=5.0,centro=0.0,alto=1000,ancho=1000)\n",
    "    broadcast(Z -> trampa_eliptica_Pinv(Z, G2, G3, K, paleta,eps,TOPE), muestra(radio,centro,alto,ancho))\n",
    "end"
   ]
  },
  {
   "cell_type": "code",
   "execution_count": null,
   "metadata": {
    "scrolled": true
   },
   "outputs": [],
   "source": [
    "mis_colores = paleta(\"aesthetic_8.jpg\", 8, 1000)"
   ]
  },
  {
   "cell_type": "code",
   "execution_count": null,
   "metadata": {},
   "outputs": [],
   "source": [
    "Pinv_atractor(0.0, 0.1im, 5, mis_colores, 0.2, 2000)"
   ]
  },
  {
   "cell_type": "code",
   "execution_count": null,
   "metadata": {},
   "outputs": [],
   "source": []
  }
 ],
 "metadata": {
  "kernelspec": {
   "display_name": "Julia 0.6.5-pre",
   "language": "julia",
   "name": "julia-0.6"
  },
  "language_info": {
   "file_extension": ".jl",
   "mimetype": "application/julia",
   "name": "julia",
   "version": "0.6.5"
  }
 },
 "nbformat": 4,
 "nbformat_minor": 2
}
