{
 "cells": [
  {
   "cell_type": "code",
   "execution_count": null,
   "metadata": {},
   "outputs": [],
   "source": [
    "using Images, Colors\n",
    "\n",
    "function muestra(radio=2.0, centro=0.0im, alto=1000, ancho=1000)\n",
    "    dx=(2.0*radio)/(1.0*ancho)  #el ancho que representa un pixel\n",
    "    dy=(2.0im*radio)/(1.0*alto) #el alto que representa un pixel\n",
    "    z0 = centro + radio*(1.0im - 1.0) #el primer valor de la muestra es la esquina superior izquierda\n",
    "    return [z0 + (x*dx) - (y*dy) for y in 0:alto-1, x in 0:ancho-1]\n",
    "end"
   ]
  },
  {
   "cell_type": "markdown",
   "metadata": {},
   "source": [
    "# Algoritmo de escape (trampas)\n",
    "\n",
    "Ahora bien, para hacer un dibujito dinámico debemos asignar a cada número complejo del muestreo un color que dependa de las propiedades dinámicas de dicho numero.\n",
    "\n",
    "Una **trampa** o **algoritmo de escape** consiste en una región del plano complejo $U \\subset \\mathbb{C}$, una sucesión de colores $\\{ c_i \\}$ y un mapa $f: \\mathbb{C} \\rightarrow \\mathbb{C}$.\n",
    "\n",
    "Para un número complejo $z$ el color que se elige es $c_n$, donde $n$ es el mínimo tal que $f^{n} (z) \\in U$.\n",
    "\n",
    "En la práctica es necesario limitar la cantidad de iteraciones permitidas y asignar un color a los puntos que no llegan a la región $U$.\n",
    "\n",
    "Asimismo, en la práctica las regiones que conforman las trampas deben ser *computacionalmente sencillas*. En general, evaluar una sentencia del tipo $z \\in U$ puede ser complicado o incluso imposible. Las regiones que usaremos en casi todos los ejemplos serán discos de manera que la pertenencia se reduce a la evaluacion de una sentencia de tipo $|z - w| < R$. \n",
    "\n",
    "## Conjuntos de Julia Rellenos\n",
    "\n",
    "Sabemos de nuestro curso introductorio a la dinámica holomorfa que todo polinomio de grado $\\geq 2$ tiene a $\\infty$ como un punto fijo super-atractor, por lo que podemos encontrar un disco suficientemente grande tal que su complemento esta completamente contenido dentro de la cuenca de atracción de $\\infty$, llamemos al radio de este disco ``R``.\n",
    "\n",
    "El complememto de este disco contiene un dominio fundamental de la cuenca de atracción de $\\infty$, es decir, la órbita de todo punto que eventualmente se vea atraido a $\\infty$ intersecta a esta región.\n",
    "\n",
    "Una manera de pintar el dibujito de la cuenca de atracción de $\\infty$ para polinomios es usando una trampa en los valores del muestreo. La región de la trampa será el complemento de un disco centrado en el origen de radio ``R`` y el mapa sea el polinomio mismo.\n",
    "\n",
    "La *paleta de colores* sera como la del ejemplo del ``argumento_complejo``, variaremos el tono del color dependiendo del *tiempo de escape*."
   ]
  },
  {
   "cell_type": "code",
   "execution_count": null,
   "metadata": {},
   "outputs": [],
   "source": [
    "function mi_primer_trampa(Z, F, R=5.0, TOPE=1000) #regresa el color segun el tiempo que toma salir del disco de radio R \n",
    "    cont = 0\n",
    "    while cont <= TOPE\n",
    "        if(abs(Z) > R) \n",
    "            return HSV{Float64}((17.6180339887498948482045868343*cont)%360.0,1.0,1.0)\n",
    "        end\n",
    "        Z = F(Z)\n",
    "        cont = cont + 1\n",
    "    end\n",
    "    return HSV{Float64}(0.0, 0.0, 0.0) #color negro\n",
    "end"
   ]
  },
  {
   "cell_type": "markdown",
   "metadata": {},
   "source": [
    "La función ``mi_primer_trampa`` toma como parametros el punto que se va a evaluar ``Z``, el mapa a iterar ``F``, el radio de escape ``R``  y el ``TOPE`` a la cantidad de iteraciones.\n",
    "\n",
    "Ahora aplicaremos esta función usando broadcast a un arreglo de numeros proporcionado por nuestra ``muestra``."
   ]
  },
  {
   "cell_type": "code",
   "execution_count": null,
   "metadata": {},
   "outputs": [],
   "source": [
    "function julia_relleno(POLINOMIO, R=5.0, TOPE=1000, centro=0.0, radio=2.0, ancho=1000, alto=1000)\n",
    "    broadcast(Z -> mi_primer_trampa(Z, POLINOMIO, R, TOPE), muestra(radio, centro, alto, ancho))\n",
    "end"
   ]
  },
  {
   "cell_type": "markdown",
   "metadata": {},
   "source": [
    "Veamos unos ejemplos:"
   ]
  },
  {
   "cell_type": "code",
   "execution_count": null,
   "metadata": {},
   "outputs": [],
   "source": [
    "mi_polinomio(z)=z*z*z + (0.48735im - 0.49864)*z + (0.3198541 + 0.67546im)\n",
    "\n",
    "julia_relleno(mi_polinomio)"
   ]
  },
  {
   "cell_type": "code",
   "execution_count": null,
   "metadata": {},
   "outputs": [],
   "source": [
    "julia_relleno(mi_polinomio, 5.0, 1000, 0.4im, 0.5)"
   ]
  },
  {
   "cell_type": "code",
   "execution_count": null,
   "metadata": {},
   "outputs": [],
   "source": [
    "julia_relleno(mi_polinomio, 5.0, 1000, 0.07+0.42im, 0.05)"
   ]
  },
  {
   "cell_type": "markdown",
   "metadata": {},
   "source": [
    "## Espacios de parametros: El conjunto de Mandelbrot\n",
    "\n",
    "Nos recordamos que el conjunto de Mandelbrot consiste de los numeros complejos $c$ tales que la órbita del $0$ no escapa a infinito bajo la iteración del mapa $f(z) = z^2 + c$.\n",
    "\n",
    "Notese que para hacer el dibujito podemos aplicar una trampa al valor $0$ con diferentes mapas para cada valor de $c$ en una muestra y la misma región de escape para todos los parametros."
   ]
  },
  {
   "cell_type": "code",
   "execution_count": null,
   "metadata": {},
   "outputs": [],
   "source": [
    "function mandelbrot(R=3.0, TOPE=1000, centro=0.0, radio=2.0, ancho=1000, alto=1000)\n",
    "    broadcast(C -> mi_primer_trampa(0.0, z -> z^2 + C, R, TOPE), muestra(radio, centro, alto, ancho))\n",
    "end"
   ]
  },
  {
   "cell_type": "code",
   "execution_count": null,
   "metadata": {},
   "outputs": [],
   "source": [
    "mandelbrot()"
   ]
  },
  {
   "cell_type": "code",
   "execution_count": null,
   "metadata": {},
   "outputs": [],
   "source": [
    "mandelbrot(2.0, 500, -0.75, 1.4)"
   ]
  },
  {
   "cell_type": "code",
   "execution_count": null,
   "metadata": {},
   "outputs": [],
   "source": []
  }
 ],
 "metadata": {
  "kernelspec": {
   "display_name": "Julia 0.6.5-pre",
   "language": "julia",
   "name": "julia-0.6"
  },
  "language_info": {
   "file_extension": ".jl",
   "mimetype": "application/julia",
   "name": "julia",
   "version": "0.6.5"
  }
 },
 "nbformat": 4,
 "nbformat_minor": 2
}
