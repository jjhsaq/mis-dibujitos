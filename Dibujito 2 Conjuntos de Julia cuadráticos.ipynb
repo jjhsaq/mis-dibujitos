{
 "cells": [
  {
   "cell_type": "code",
   "execution_count": null,
   "metadata": {},
   "outputs": [],
   "source": [
    "using Images, Colors, Distributions\n",
    "\n",
    "function muestra(radio=2.0, centro=0.0im, alto=1000, ancho=1000)\n",
    "    dx=(2.0*radio)/(1.0*ancho) #el ancho que representa un pixel\n",
    "    dy=(2.0im*radio)/(1.0*alto)#el alto que representa un pixel\n",
    "    z0 = centro + radio*(1.0im - 1.0) #el primer valor de la muestra es la esquina superior izquierda\n",
    "    return [z0 + (x*dx) - (y*dy) for y in 1:alto, x in 1:ancho]\n",
    "end\n",
    "\n",
    "function moneda(N)\n",
    "    ceil(Int64, round(rand(Uniform(-N-0.499, N+0.499))))\n",
    "end\n",
    "\n",
    "function paleta(mi_foto, paso, tamaño)\n",
    "    aesthetics = load(mi_foto)\n",
    "    alto, ancho =size(aesthetics)\n",
    "    x0 = ceil(Int64, rand(Uniform(0,ancho)))\n",
    "    #x0 = ceil(Int64, ancho/3)\n",
    "    y0 = ceil(Int64, rand(Uniform(0,alto)))\n",
    "    #y0 = ceil(Int64, alto/2)\n",
    "    paleta = zeros(RGB{N0f8}, tamaño)\n",
    "    for i = 1:length(paleta)\n",
    "        paleta[i] = aesthetics[mod(y0,alto)+1,mod(x0,ancho)+1]\n",
    "        x0 = x0 + moneda(paso)\n",
    "        y0 = y0 + moneda(paso)\n",
    "    end\n",
    "    return paleta\n",
    "end"
   ]
  },
  {
   "cell_type": "markdown",
   "metadata": {},
   "source": [
    "# Conjuntos de Julia cuadráticos\n",
    "\n",
    "En este ejemplo veremos como pintar el *interior* del Conjunto de Julia relleno, es decir, vamos a usar el algoritmo de trampas para pintar los componentes acotados del conjunto de Fatou para polinomios cuadráticos en la familia $p_{\\lambda}(z) = z^2 + \\lambda z$.\n",
    "\n",
    "La información que usaremos sobre esta familia es que el $0$ es un punto fijo con multiplicador $\\lambda$.\n",
    "\n",
    "Para estos dibujos usaremos la paleta generada por una caminata aleatoria en una imagen."
   ]
  },
  {
   "cell_type": "code",
   "execution_count": null,
   "metadata": {},
   "outputs": [],
   "source": [
    "mi_paleta = paleta(\"aesthetic.jpg\", 5, 1000)"
   ]
  },
  {
   "cell_type": "markdown",
   "metadata": {},
   "source": [
    "Vamos a usar una trampa en el punto fijo que conocemos, el cero, y en principio solo vamos a considerar parametros $|\\lambda| < 1$. La región que usaremos para la trampa es un disco de radio ``eps`` centrado en $0$."
   ]
  },
  {
   "cell_type": "code",
   "execution_count": null,
   "metadata": {},
   "outputs": [],
   "source": [
    "function trampa_atractor(Z, λ, colores, eps=1.0e-5, TOPE=1000)\n",
    "    cont = 0\n",
    "    while cont <= TOPE\n",
    "        if abs(Z) < eps\n",
    "            n = 1 + mod(cont, length(colores))\n",
    "            return colores[n]\n",
    "        elseif abs(Z) > 4.0\n",
    "            return RGB{Float32}(1.0, 1.0, 1.0) #color blanco\n",
    "        end\n",
    "        Z = Z*(Z + λ)\n",
    "        cont += 1\n",
    "    end\n",
    "    return RGB{Float32}(0.0, 0.0, 0.0) #color negro\n",
    "end\n",
    "\n",
    "function julia2_atractor(λ, colores, eps=1.0e-5, TOPE=1000, radio=2.0, centro=0.0, alto=1000, ancho=1000)\n",
    "    broadcast(Z -> trampa_atractor(Z, λ, colores, eps, TOPE), muestra(radio, centro, alto, ancho))\n",
    "end"
   ]
  },
  {
   "cell_type": "code",
   "execution_count": null,
   "metadata": {},
   "outputs": [],
   "source": [
    "julia2_atractor(0.25+0.25im, mi_paleta)"
   ]
  },
  {
   "cell_type": "markdown",
   "metadata": {},
   "source": [
    "Consideremos ahora el caso $|\\lambda| = 1$, es decir, $\\lambda = e^{2 \\pi i \\theta}$, donde $\\theta \\in [0,1]$.\n",
    "\n",
    "Comenzaremos con el caso parábolico, $\\theta \\in \\mathbb{Q}$. La trampa que usaremos será un sector contenido en un pétalo atractor: centrado en 0, de radio ``eps``, en el angulo ``dir`` y de ancho ``wdt``. "
   ]
  },
  {
   "cell_type": "code",
   "execution_count": null,
   "metadata": {},
   "outputs": [],
   "source": [
    "function trampa_parabolico(Z, λ, dir, wdt, colores, eps=0.05, TOPE=5000)\n",
    "    cont = 0\n",
    "    while cont <= TOPE\n",
    "        if abs(Z) < eps && (angle(Z) > dir - wdt && angle(Z) < dir + wdt)\n",
    "            n = 1 + mod(cont, length(colores))\n",
    "            return colores[n]\n",
    "        elseif abs(Z) > 4.0\n",
    "            return RGB{Float32}(0.0, 0.0, 0.0) #color negro\n",
    "        end\n",
    "        Z = Z*(Z + λ)\n",
    "        cont += 1\n",
    "    end\n",
    "    return RGB{Float32}(0.0, 0.0, 0.0) #color negro\n",
    "end"
   ]
  },
  {
   "cell_type": "markdown",
   "metadata": {},
   "source": [
    "Para estimar la dirección y el tamaño del sector que se usara como trampa podemos *perseguir* el punto critico, $-\\lambda /2$, iterando varias veces (por ejemplo, tantas veces como indique ``TOPE``) el punto crítico obtendremos un punto cerca del punto fijo. Usamos el argumento de esta imagen del punto critico como direccion para el sector y usamos un ancho proporcional a ``eps`` y al numero de petalos. \n",
    "\n",
    "La función ``julia2_parabolico`` toma como parametros el numerador $p$ y el denominador $q$ del multiplicador $\\lambda = e^{2 \\pi i p/q}$"
   ]
  },
  {
   "cell_type": "code",
   "execution_count": null,
   "metadata": {},
   "outputs": [],
   "source": [
    "function julia2_parabolico(p, q, colores, eps=0.05, TOPE=5000, radio=2.0, centro=0.0, alto=1000, ancho=1000)\n",
    "    λ = cos(2.0*pi*p/q) + sin(2.0*pi*p/q)*1.0im\n",
    "    cr = -0.5*λ\n",
    "    for i = 1:TOPE\n",
    "        if abs(cr) < eps\n",
    "            break\n",
    "        end\n",
    "        cr = cr*(cr + λ)\n",
    "    end\n",
    "    dir = angle(cr)\n",
    "    wdt = eps/q\n",
    "    broadcast(Z -> trampa_parabolico(Z, λ, dir, wdt, colores, eps, TOPE), muestra(radio, centro, alto, ancho))\n",
    "end"
   ]
  },
  {
   "cell_type": "code",
   "execution_count": null,
   "metadata": {},
   "outputs": [],
   "source": [
    "julia2_parabolico(2,3, mi_paleta, 0.4, 500, 1.35, 0.2+0.4im)"
   ]
  },
  {
   "cell_type": "code",
   "execution_count": null,
   "metadata": {},
   "outputs": [],
   "source": [
    "julia2_parabolico(5,7, mi_paleta, 0.2, 5000, 0.5)"
   ]
  },
  {
   "cell_type": "markdown",
   "metadata": {},
   "source": [
    "Ahora consideremos el caso $\\lambda = e^{2 \\pi i \\theta}$ con $\\theta$ irracional (de Brjuno) de manera que haya un disco de Siegel. La región que usaremos para la trampa será un disco centrado en el punto fijo 0 de radio ``rad``. Este radio deberá ser suficentemente grande para que *atrape* todas las oribitas que llegan al dominio de rotación, pero no tan grande como para que contenga puntos del conjunto de Julia. \n",
    "\n",
    "En el caso de la familia cuadrática, sabemos que el punto critico se acumula en la frontera del disco de Siegel. Usando esta información, podemos estimar un buen ``rad`` para la trampa como el mínimo de las distancias de (un pedazo) la órbita del punto critico al cero. "
   ]
  },
  {
   "cell_type": "code",
   "execution_count": null,
   "metadata": {},
   "outputs": [],
   "source": [
    "function trampa_siegel(Z, λ, rad, colores, TOPE=5000)\n",
    "    cont = 0\n",
    "    while cont <= TOPE\n",
    "        if abs(Z) < rad\n",
    "            n = 1 + mod(cont, length(colores))\n",
    "            return colores[n]\n",
    "        elseif abs(Z) > 4.0\n",
    "            return RGB{Float32}(0.0, 0.0, 0.0) #color negro si diverge\n",
    "        end\n",
    "        Z = Z*(Z + λ)\n",
    "        cont += 1\n",
    "    end\n",
    "    return RGB{Float32}(0.0, 0.0, 0.0) #color negro si no concluye\n",
    "end\n",
    "\n",
    "function julia2_siegel(θ, colores, TOPE=5000, radio=2.0, centro=0.0, alto=1000, ancho=1000)\n",
    "    λ = cos(2.0*pi*θ) + sin(2.0*pi*θ)*1.0im\n",
    "    cr = -0.5*λ\n",
    "    rad = 1000.0\n",
    "    for i = 1:TOPE\n",
    "        cr = cr*(cr + λ)\n",
    "        rad > abs(cr) ? rad = abs(cr) : nothing\n",
    "    end\n",
    "    broadcast(Z -> trampa_siegel(Z, λ, rad, colores, TOPE), muestra(radio, centro, alto, ancho))\n",
    "end"
   ]
  },
  {
   "cell_type": "code",
   "execution_count": null,
   "metadata": {},
   "outputs": [],
   "source": [
    "julia2_siegel(0.5*(sqrt(5.0) - 1.0), mi_paleta, 1000, 1.0)"
   ]
  },
  {
   "cell_type": "code",
   "execution_count": null,
   "metadata": {},
   "outputs": [],
   "source": []
  }
 ],
 "metadata": {
  "kernelspec": {
   "display_name": "Julia 0.6.5-pre",
   "language": "julia",
   "name": "julia-0.6"
  },
  "language_info": {
   "file_extension": ".jl",
   "mimetype": "application/julia",
   "name": "julia",
   "version": "0.6.5"
  }
 },
 "nbformat": 4,
 "nbformat_minor": 2
}
